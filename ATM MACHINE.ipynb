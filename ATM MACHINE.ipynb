{
 "cells": [
  {
   "cell_type": "code",
   "execution_count": 1,
   "metadata": {},
   "outputs": [
    {
     "name": "stdout",
     "output_type": "stream",
     "text": [
      "**** Welcome To Your Bank ****\n",
      "Enter Customer ID:1234\n",
      "Enter Your Four Digits Pin Code:1234\n"
     ]
    },
    {
     "ename": "NameError",
     "evalue": "name 'pin' is not defined",
     "output_type": "error",
     "traceback": [
      "\u001b[1;31m---------------------------------------------------------------------------\u001b[0m",
      "\u001b[1;31mNameError\u001b[0m                                 Traceback (most recent call last)",
      "\u001b[1;32m<ipython-input-1-0bfc31f24c01>\u001b[0m in \u001b[0;36m<module>\u001b[1;34m\u001b[0m\n\u001b[0;32m      2\u001b[0m \u001b[0mCustomer_Id\u001b[0m\u001b[1;33m:\u001b[0m\u001b[0minput\u001b[0m\u001b[1;33m(\u001b[0m\u001b[1;34m\"Enter Customer ID:\"\u001b[0m\u001b[1;33m)\u001b[0m\u001b[1;33m\u001b[0m\u001b[1;33m\u001b[0m\u001b[0m\n\u001b[0;32m      3\u001b[0m \u001b[0mpin\u001b[0m\u001b[1;33m:\u001b[0m\u001b[0minput\u001b[0m\u001b[1;33m(\u001b[0m\u001b[1;34m\"Enter Your Four Digits Pin Code:\"\u001b[0m\u001b[1;33m)\u001b[0m\u001b[1;33m\u001b[0m\u001b[1;33m\u001b[0m\u001b[0m\n\u001b[1;32m----> 4\u001b[1;33m \u001b[1;32mif\u001b[0m \u001b[0mpin\u001b[0m\u001b[1;33m==\u001b[0m\u001b[1;34m'1234'\u001b[0m \u001b[1;33m:\u001b[0m\u001b[1;33m\u001b[0m\u001b[1;33m\u001b[0m\u001b[0m\n\u001b[0m\u001b[0;32m      5\u001b[0m     \u001b[0mprint\u001b[0m \u001b[1;33m(\u001b[0m\u001b[0mButton\u001b[0m\u001b[1;33m)\u001b[0m\u001b[1;33m\u001b[0m\u001b[1;33m\u001b[0m\u001b[0m\n\u001b[0;32m      6\u001b[0m \u001b[1;33m\u001b[0m\u001b[0m\n",
      "\u001b[1;31mNameError\u001b[0m: name 'pin' is not defined"
     ]
    }
   ],
   "source": [
    "print(\"**** Welcome To Your Bank ****\")\n",
    "Customer_Id:input(\"Enter Customer ID:\")\n",
    "pin:input(\"Enter Your Four Digits Pin Code:\")\n",
    "if pin=='1234' : \n",
    "    print (Button)\n",
    "    \n",
    "else:\n",
    "    print(\"incorrect password.\")\n",
    "    \n",
    "Balance=10000\n",
    "print(\"Press 1 to deposit\")\n",
    "print(\"Press 2 to Withdraw\")\n",
    "print(\"Press 3 to Check Balance\")\n",
    "print(\"Press 4 to Exit\")\n",
    "Button=input(\"Enter the Button :\")\n",
    "\n",
    "if Button =='1' :\n",
    "    deposit = int(input(\"Enter the amount to deposit :\"))\n",
    "    New_Balance= Balance + deposit\n",
    "    print(\"You have Deposited :\",deposit)\n",
    "    print(\"New Balance : \",New_Balance)\n",
    "\n",
    "    \n",
    "    \n",
    "elif Button == '2'  :\n",
    "    withdraw = int (input(\"Enter the amount to withdraw :\"))\n",
    "    Withdraw_amount=New_Balance - withdraw \n",
    "    print(\"You have Withdrawn :\",(withdraw) ,\"Your Remaining Balance is :\",(Withdraw_amount) , sep=\"\\n\")\n",
    "    \n",
    "elif Button =='3':\n",
    "    print (\"Your Have Amount of :\",New_Balance) \n",
    "    \n",
    "elif Button == '4' :\n",
    "    print(\"***** Thankyou For Banking With Us *****\")\n",
    "\n"
   ]
  },
  {
   "cell_type": "markdown",
   "metadata": {},
   "source": [
    "# "
   ]
  },
  {
   "cell_type": "code",
   "execution_count": null,
   "metadata": {},
   "outputs": [],
   "source": []
  }
 ],
 "metadata": {
  "kernelspec": {
   "display_name": "Python 3",
   "language": "python",
   "name": "python3"
  },
  "language_info": {
   "codemirror_mode": {
    "name": "ipython",
    "version": 3
   },
   "file_extension": ".py",
   "mimetype": "text/x-python",
   "name": "python",
   "nbconvert_exporter": "python",
   "pygments_lexer": "ipython3",
   "version": "3.7.1"
  }
 },
 "nbformat": 4,
 "nbformat_minor": 2
}
