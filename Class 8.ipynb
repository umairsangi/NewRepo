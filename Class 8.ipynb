{
 "cells": [
  {
   "cell_type": "code",
   "execution_count": 2,
   "metadata": {},
   "outputs": [
    {
     "name": "stdout",
     "output_type": "stream",
     "text": [
      "1\n",
      "2\n",
      "3\n",
      "4\n",
      "5\n",
      "6\n",
      "7\n",
      "8\n",
      "9\n",
      "10\n"
     ]
    }
   ],
   "source": [
    "for num in range(1,11):\n",
    "        print(num)"
   ]
  },
  {
   "cell_type": "code",
   "execution_count": 3,
   "metadata": {},
   "outputs": [
    {
     "data": {
      "text/plain": [
       "10"
      ]
     },
     "execution_count": 3,
     "metadata": {},
     "output_type": "execute_result"
    }
   ],
   "source": [
    "num"
   ]
  },
  {
   "cell_type": "markdown",
   "metadata": {},
   "source": [
    "# While loop Flag "
   ]
  },
  {
   "cell_type": "code",
   "execution_count": 1,
   "metadata": {},
   "outputs": [
    {
     "name": "stdout",
     "output_type": "stream",
     "text": [
      "While loop executing\n",
      "Enter username :ali\n",
      "User is now  ali\n",
      "While loop executing\n",
      "Enter username :how\n",
      "User is now  how\n",
      "While loop executing\n",
      "Enter username :Nasir\n",
      "User is now  Nasir\n"
     ]
    }
   ],
   "source": [
    "flag=True\n",
    "\n",
    "while flag==True:\n",
    "    print(\"While loop executing\")\n",
    "    username=input(\"Enter username :\")\n",
    "    print(\"User is now \",username)\n",
    "    if username==\"Nasir\":\n",
    "        if username==\"Nasir\":\n",
    "            flag=False\n",
    "    \n",
    "    "
   ]
  },
  {
   "cell_type": "code",
   "execution_count": 8,
   "metadata": {},
   "outputs": [
    {
     "data": {
      "text/plain": [
       "['Ali', 'Saad', 'Asad', 'Anas', 'A', 'l', 'i']"
      ]
     },
     "execution_count": 8,
     "metadata": {},
     "output_type": "execute_result"
    }
   ],
   "source": [
    "list=[\"Ali\",\"Saad\",\"Asad\",\"Anas\"]\n",
    "list.extend(\"Ali\")\n",
    "list"
   ]
  },
  {
   "cell_type": "code",
   "execution_count": 10,
   "metadata": {},
   "outputs": [],
   "source": [
    "list.extend(\"123456\")"
   ]
  },
  {
   "cell_type": "code",
   "execution_count": 11,
   "metadata": {},
   "outputs": [
    {
     "data": {
      "text/plain": [
       "['Ali', 'Saad', 'Asad', 'Anas', 'A', 'l', 'i', '1', '2', '3', '4', '5', '6']"
      ]
     },
     "execution_count": 11,
     "metadata": {},
     "output_type": "execute_result"
    }
   ],
   "source": [
    "list"
   ]
  },
  {
   "cell_type": "code",
   "execution_count": 14,
   "metadata": {},
   "outputs": [
    {
     "data": {
      "text/plain": [
       "2"
      ]
     },
     "execution_count": 14,
     "metadata": {},
     "output_type": "execute_result"
    }
   ],
   "source": [
    "list2=[1,2,3,4,5,6,4,3,2]\n",
    "list2.count(4)"
   ]
  },
  {
   "cell_type": "code",
   "execution_count": 35,
   "metadata": {},
   "outputs": [
    {
     "name": "stdout",
     "output_type": "stream",
     "text": [
      "Enter user name :hey\n",
      "hey\n",
      "hey\n",
      "Access Denied\n"
     ]
    }
   ],
   "source": [
    "name=\"ali\" ###############STRING DOCUMENTATION#####################\n",
    "username=input(\"Enter user name :\")\n",
    "Strip=username.strip()\n",
    "print(Strip)\n",
    "Lower=username.lower()\n",
    "print(Lower)\n",
    "if name==Lower:\n",
    "        print(\"Access Approved\")\n",
    "else:\n",
    "        print(\"Access Denied\")\n",
    "\n"
   ]
  },
  {
   "cell_type": "code",
   "execution_count": 41,
   "metadata": {},
   "outputs": [
    {
     "name": "stdout",
     "output_type": "stream",
     "text": [
      "Enter the name :ali\n",
      "Enter Last namesangi\n",
      "My first name  is ali,MY last name is sangi \n"
     ]
    }
   ],
   "source": [
    "name=input(\"Enter the name :\")\n",
    "Second=input(\"Enter Last name\")\n",
    "           \n",
    "print(\"My first name  is {},MY last name is {} \".format(name,Second))"
   ]
  },
  {
   "cell_type": "code",
   "execution_count": 42,
   "metadata": {},
   "outputs": [
    {
     "name": "stdout",
     "output_type": "stream",
     "text": [
      "My name is ali and last name is sangi\n"
     ]
    }
   ],
   "source": [
    "###Second method of string format#######\n",
    "\n",
    "print(f\"My name is {name} and last name is {Second}\")"
   ]
  },
  {
   "cell_type": "code",
   "execution_count": 5,
   "metadata": {},
   "outputs": [
    {
     "name": "stdout",
     "output_type": "stream",
     "text": [
      "c is 345 and b is 234\n"
     ]
    }
   ],
   "source": [
    "d={\"a\":123,\"b\":234,\"c\":345}\n",
    "print(f'c is {d[\"c\"]} and b is {d[\"b\"]}')\n"
   ]
  },
  {
   "cell_type": "code",
   "execution_count": 11,
   "metadata": {},
   "outputs": [
    {
     "data": {
      "text/plain": [
       "[('Author', 'Topic', 'Pages'),\n",
       " ('Ali', 'Ai', '100'),\n",
       " ('Umair', 'MATHS', '200'),\n",
       " ('Saad', 'Python', '300')]"
      ]
     },
     "execution_count": 11,
     "metadata": {},
     "output_type": "execute_result"
    }
   ],
   "source": [
    "library=[(\"Author\",\"Topic\",\"Pages\"),(\"Ali\",\"Ai\",\"100\"),(\"Umair\",\"MATHS\",\"200\"),(\"Saad\",\"Python\",\"300\")]\n",
    "library"
   ]
  },
  {
   "cell_type": "code",
   "execution_count": 2,
   "metadata": {},
   "outputs": [
    {
     "name": "stdout",
     "output_type": "stream",
     "text": [
      "Author\n",
      "Ali\n",
      "Umair\n",
      "Saad\n"
     ]
    }
   ],
   "source": [
    "library=[(\"Author\",\"Topic\",\"Pages\"),(\"Ali\",\"Ai\",\"100\"),(\"Umair\",\"MATHS\",\"200\"),(\"Saad\",\"Python\",\"300\")]\n",
    "library\n",
    "for book in library:\n",
    "    print(book[0])"
   ]
  },
  {
   "cell_type": "code",
   "execution_count": 4,
   "metadata": {},
   "outputs": [
    {
     "name": "stdout",
     "output_type": "stream",
     "text": [
      "Author              Topic                         -----Pages\n",
      "Ali                 Ai                            -------100\n",
      "Umair               MATHS                         -------200\n",
      "Saad                Python                        -------300\n"
     ]
    }
   ],
   "source": [
    "for author,topic,pages in library:\n",
    "    print(f'{author:{20}}{topic:{30}}{pages:->{10}}')"
   ]
  },
  {
   "cell_type": "code",
   "execution_count": null,
   "metadata": {},
   "outputs": [],
   "source": []
  }
 ],
 "metadata": {
  "kernelspec": {
   "display_name": "Python 3",
   "language": "python",
   "name": "python3"
  },
  "language_info": {
   "codemirror_mode": {
    "name": "ipython",
    "version": 3
   },
   "file_extension": ".py",
   "mimetype": "text/x-python",
   "name": "python",
   "nbconvert_exporter": "python",
   "pygments_lexer": "ipython3",
   "version": "3.7.1"
  }
 },
 "nbformat": 4,
 "nbformat_minor": 2
}
