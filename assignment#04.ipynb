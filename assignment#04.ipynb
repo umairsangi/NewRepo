{
 "cells": [
  {
   "cell_type": "code",
   "execution_count": 16,
   "metadata": {},
   "outputs": [
    {
     "name": "stdout",
     "output_type": "stream",
     "text": [
      "\n",
      "\n",
      "taskList[0] is \"email\"\n",
      "taskList[1] is \"assignment\"\n",
      "taskList[2] is \"presentation\"\n",
      "taskList[3] is \"project\"\n",
      "\n",
      "After every entry each task will move one step up.... \n",
      "\n"
     ]
    }
   ],
   "source": [
    "print('''\n",
    "\n",
    "taskList[0] is \"email\"\n",
    "taskList[1] is \"assignment\"\n",
    "taskList[2] is \"presentation\"\n",
    "taskList[3] is \"project\"\n",
    "\n",
    "After every entry each task will move one step up.... \n",
    "''')\n",
    "    "
   ]
  },
  {
   "cell_type": "code",
   "execution_count": 3,
   "metadata": {},
   "outputs": [],
   "source": [
    "tasks_list=[\"email\", \"assignment\", \"presentation\", \"project\"]\n",
    "task_done_list=[]\n",
    "\n"
   ]
  },
  {
   "cell_type": "code",
   "execution_count": 5,
   "metadata": {},
   "outputs": [
    {
     "name": "stdout",
     "output_type": "stream",
     "text": [
      "type here 1\n",
      "['email', 'presentation']\n"
     ]
    }
   ],
   "source": [
    "entry=int(input(\"type here \"))\n",
    "taskdone = tasks_list.pop(entry)\n",
    "task_done_list.append(taskdone)\n",
    "\n",
    "print(task_done_list)"
   ]
  },
  {
   "cell_type": "code",
   "execution_count": null,
   "metadata": {},
   "outputs": [],
   "source": []
  }
 ],
 "metadata": {
  "kernelspec": {
   "display_name": "Python 3",
   "language": "python",
   "name": "python3"
  },
  "language_info": {
   "codemirror_mode": {
    "name": "ipython",
    "version": 3
   },
   "file_extension": ".py",
   "mimetype": "text/x-python",
   "name": "python",
   "nbconvert_exporter": "python",
   "pygments_lexer": "ipython3",
   "version": "3.7.1"
  }
 },
 "nbformat": 4,
 "nbformat_minor": 2
}
