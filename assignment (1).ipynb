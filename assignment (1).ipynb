{
 "cells": [
  {
   "cell_type": "markdown",
   "metadata": {},
   "source": [
    "# ASSIGNMENT "
   ]
  },
  {
   "cell_type": "markdown",
   "metadata": {},
   "source": [
    "<h3> 1 : Declare and initialize a variable name total_marks with a value 500</h3>\n"
   ]
  },
  {
   "cell_type": "code",
   "execution_count": 4,
   "metadata": {
    "scrolled": true
   },
   "outputs": [
    {
     "name": "stdout",
     "output_type": "stream",
     "text": [
      "Enter Total Marks500\n",
      "500\n"
     ]
    }
   ],
   "source": [
    "Total_Marks=input(\"Enter Total Marks\")\n",
    "print(Total_Marks)"
   ]
  },
  {
   "cell_type": "markdown",
   "metadata": {},
   "source": [
    "<h3> 2 : Declare and initialize 5 variables name maths , english , urdu , physics and chemisrty with different integer values</h3>"
   ]
  },
  {
   "cell_type": "code",
   "execution_count": 5,
   "metadata": {},
   "outputs": [
    {
     "name": "stdout",
     "output_type": "stream",
     "text": [
      "Enter Your Maths Values100\n",
      "100\n"
     ]
    }
   ],
   "source": [
    "maths=input(\"Enter Your Maths Values\")\n",
    "print(maths)"
   ]
  },
  {
   "cell_type": "markdown",
   "metadata": {},
   "source": [
    "<h3>3 : Calculate the obtained marks And assign the value In variable name obtained_marks</h3>"
   ]
  },
  {
   "cell_type": "code",
   "execution_count": 15,
   "metadata": {},
   "outputs": [
    {
     "name": "stdout",
     "output_type": "stream",
     "text": [
      "500\n"
     ]
    }
   ],
   "source": [
    "Total= '500'\n",
    "print(Total)"
   ]
  },
  {
   "cell_type": "markdown",
   "metadata": {},
   "source": [
    "<h3>4 : Calculate percentage and assign the value in variable name percentage</h3>"
   ]
  },
  {
   "cell_type": "code",
   "execution_count": 6,
   "metadata": {},
   "outputs": [
    {
     "name": "stdout",
     "output_type": "stream",
     "text": [
      "Enter Total Marks100\n",
      "Enter Marks Obtained50\n",
      "The Percentage is  50.0 %\n"
     ]
    }
   ],
   "source": [
    "a=int(input('Enter Total Marks'))\n",
    "b=int(input(\"Enter Marks Obtained\"))\n",
    "Percentage = a * b / 100\n",
    "print(\"The Percentage is \",Percentage,\"%\")"
   ]
  },
  {
   "cell_type": "markdown",
   "metadata": {},
   "source": [
    "<h3>5 : Declare and initialize an empty variable name grade </h3>"
   ]
  },
  {
   "cell_type": "code",
   "execution_count": 15,
   "metadata": {
    "scrolled": true
   },
   "outputs": [
    {
     "ename": "SyntaxError",
     "evalue": "invalid syntax (<ipython-input-15-0e940125bd40>, line 10)",
     "output_type": "error",
     "traceback": [
      "\u001b[1;36m  File \u001b[1;32m\"<ipython-input-15-0e940125bd40>\"\u001b[1;36m, line \u001b[1;32m10\u001b[0m\n\u001b[1;33m    else  Percentage >=80 :\u001b[0m\n\u001b[1;37m                   ^\u001b[0m\n\u001b[1;31mSyntaxError\u001b[0m\u001b[1;31m:\u001b[0m invalid syntax\n"
     ]
    }
   ],
   "source": [
    "a=int(input('Enter Total Marks'))\n",
    "b=int(input(\"Enter Marks Obtained\"))\n",
    "Percentage = a * b / 100\n",
    "\n",
    "if  Percentage >=90:\n",
    "    print(\"Your Grade is A+\") \n",
    "\n",
    "\n",
    "\n",
    "else  Percentage >=80 :\n",
    "    print(\"Your Grade is B\") \n",
    "\n",
    "\n",
    "else  Percentage >=70 :\n",
    "    print(\"Your Grade is C\") \n",
    "\n",
    "\n",
    "else  Percentage <=60:\n",
    "    print(\"Your Grade is Fail\") \n",
    "print(Percentage) \n"
   ]
  },
  {
   "cell_type": "markdown",
   "metadata": {},
   "source": [
    "<h3>6 : assign a vlue to grade by checking the following conditions:: </h3>\n",
    "<h3>if % is greater then and equal to 90 and less then 100 grade is A+ </h3>\n",
    "<h3>if % is greater then and equal to 80 and less then 90 grade is A </h3>\n",
    "<h3>if % is greater then and equal to 70 and less then 80 grade is B </h3>\n",
    "<h3>if % is greater then and equal to 60 and less then 70 grade is C </h3>\n",
    "<h3>if % is less than 60 grade is FAIL </h3>\n"
   ]
  },
  {
   "cell_type": "code",
   "execution_count": null,
   "metadata": {},
   "outputs": [],
   "source": []
  },
  {
   "cell_type": "markdown",
   "metadata": {},
   "source": [
    "<h3>7 : Print grade percentage and obtained marks</h3>"
   ]
  },
  {
   "cell_type": "code",
   "execution_count": null,
   "metadata": {},
   "outputs": [],
   "source": []
  }
 ],
 "metadata": {
  "kernelspec": {
   "display_name": "Python 3",
   "language": "python",
   "name": "python3"
  },
  "language_info": {
   "codemirror_mode": {
    "name": "ipython",
    "version": 3
   },
   "file_extension": ".py",
   "mimetype": "text/x-python",
   "name": "python",
   "nbconvert_exporter": "python",
   "pygments_lexer": "ipython3",
   "version": "3.7.1"
  }
 },
 "nbformat": 4,
 "nbformat_minor": 2
}
