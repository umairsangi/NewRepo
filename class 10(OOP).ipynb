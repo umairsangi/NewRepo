{
 "cells": [
  {
   "cell_type": "markdown",
   "metadata": {},
   "source": [
    "# Inheritance "
   ]
  },
  {
   "cell_type": "code",
   "execution_count": 1,
   "metadata": {},
   "outputs": [],
   "source": [
    "class Car():\n",
    "    def __init__(self,make,model,year):\n",
    "        self.make=make\n",
    "        self.model=model\n",
    "        self.year=year\n",
    "        self.odoMeter_reading=0\n",
    "        self.fuel=\"20 ltr\"\n",
    "        \n",
    "    def get_descriptive_name(self):\n",
    "        long_name=(f\"{self.make} {self.model} {self.year}\")\n",
    "        return long_name.title()\n",
    "    def read_OdoMeter(self):\n",
    "        print(f\"The Car has {self.odoMeter_reading} miles on it\")\n",
    "    def update_OdoMeter(self,mileage):\n",
    "        if(mileage >=self.odoMeter_reading):\n",
    "            self.odoMeter_reading=mileage\n",
    "            print(\"Meter has been updated\")\n",
    "        else:\n",
    "            print(\"You can't roll back your meter\")\n",
    "            \n",
    "    def increment_odometer(self,miles):\n",
    "        self.odoMeter_reading +=miles\n",
    "     \n",
    "    def get_fuel_value(self):\n",
    "        print(self.fuel)\n",
    "    \n",
    "    "
   ]
  },
  {
   "cell_type": "code",
   "execution_count": 2,
   "metadata": {},
   "outputs": [
    {
     "name": "stdout",
     "output_type": "stream",
     "text": [
      "Audi A4 2016\n",
      "The Car has 0 miles on it\n"
     ]
    }
   ],
   "source": [
    "my_new_car=Car(\"Audi\",\"A4\",2016)\n",
    "print(my_new_car.get_descriptive_name())\n",
    "\n",
    "\n",
    "\n",
    "my_new_car.read_OdoMeter()\n",
    "\n",
    "        "
   ]
  },
  {
   "cell_type": "code",
   "execution_count": 3,
   "metadata": {},
   "outputs": [
    {
     "name": "stdout",
     "output_type": "stream",
     "text": [
      "Meter has been updated\n",
      "The Car has 12 miles on it\n"
     ]
    }
   ],
   "source": [
    "my_new_car.update_OdoMeter(12)\n",
    "my_new_car.read_OdoMeter()"
   ]
  },
  {
   "cell_type": "code",
   "execution_count": 4,
   "metadata": {},
   "outputs": [
    {
     "name": "stdout",
     "output_type": "stream",
     "text": [
      "Meter has been updated\n",
      "The Car has 25 miles on it\n"
     ]
    }
   ],
   "source": [
    "my_new_car.update_OdoMeter(25)\n",
    "my_new_car.read_OdoMeter()\n"
   ]
  },
  {
   "cell_type": "code",
   "execution_count": 9,
   "metadata": {},
   "outputs": [
    {
     "name": "stdout",
     "output_type": "stream",
     "text": [
      "The Car has 40 miles on it\n"
     ]
    }
   ],
   "source": [
    "my_new_car.increment_odometer(5)\n",
    "my_new_car.read_OdoMeter()\n",
    "\n"
   ]
  },
  {
   "cell_type": "code",
   "execution_count": 8,
   "metadata": {},
   "outputs": [
    {
     "name": "stdout",
     "output_type": "stream",
     "text": [
      "20 ltr\n"
     ]
    }
   ],
   "source": [
    "my_new_car.get_fuel_value()"
   ]
  },
  {
   "cell_type": "markdown",
   "metadata": {},
   "source": [
    "# Electric Car inherits attributes of car"
   ]
  },
  {
   "cell_type": "code",
   "execution_count": 32,
   "metadata": {},
   "outputs": [],
   "source": [
    "class Electric_Car(Car):\n",
    "    def __init__(self,make,model,year,battery):# 1st this initializer will work\n",
    "        super().__init__(make,model,year)#this initializer will call parent\n",
    "        self.battery=battery\n",
    "        \n",
    "    def get_battery_watt(self):\n",
    "        print(self.battery)\n",
    "    def get_fuel_value(self):         # Method over riding\n",
    "        print(\"This car has no fuel tank\")"
   ]
  },
  {
   "cell_type": "code",
   "execution_count": 33,
   "metadata": {},
   "outputs": [
    {
     "data": {
      "text/plain": [
       "'Latest'"
      ]
     },
     "execution_count": 33,
     "metadata": {},
     "output_type": "execute_result"
    }
   ],
   "source": [
    "my_tesla=Electric_Car(\"Tesla\",\"Latest\",2019,70)\n",
    "my_tesla.model"
   ]
  },
  {
   "cell_type": "code",
   "execution_count": 34,
   "metadata": {},
   "outputs": [
    {
     "name": "stdout",
     "output_type": "stream",
     "text": [
      "The Car has 0 miles on it\n"
     ]
    }
   ],
   "source": [
    "my_tesla.read_OdoMeter()"
   ]
  },
  {
   "cell_type": "code",
   "execution_count": 35,
   "metadata": {},
   "outputs": [
    {
     "name": "stdout",
     "output_type": "stream",
     "text": [
      "70\n"
     ]
    }
   ],
   "source": [
    "my_tesla.get_battery_watt()"
   ]
  },
  {
   "cell_type": "code",
   "execution_count": 36,
   "metadata": {},
   "outputs": [
    {
     "name": "stdout",
     "output_type": "stream",
     "text": [
      "This car has no fuel tank\n"
     ]
    }
   ],
   "source": [
    "my_tesla.get_fuel_value()"
   ]
  },
  {
   "cell_type": "code",
   "execution_count": null,
   "metadata": {},
   "outputs": [],
   "source": []
  }
 ],
 "metadata": {
  "kernelspec": {
   "display_name": "Python 3",
   "language": "python",
   "name": "python3"
  },
  "language_info": {
   "codemirror_mode": {
    "name": "ipython",
    "version": 3
   },
   "file_extension": ".py",
   "mimetype": "text/x-python",
   "name": "python",
   "nbconvert_exporter": "python",
   "pygments_lexer": "ipython3",
   "version": "3.7.1"
  }
 },
 "nbformat": 4,
 "nbformat_minor": 2
}
