{
 "cells": [
  {
   "cell_type": "markdown",
   "metadata": {},
   "source": [
    "# While Loop"
   ]
  },
  {
   "cell_type": "code",
   "execution_count": 5,
   "metadata": {},
   "outputs": [
    {
     "name": "stdout",
     "output_type": "stream",
     "text": [
      "0 aaaaa\n",
      "1 aaaaa\n",
      "2 aaaaa\n",
      "3 aaaaa\n",
      "4 aaaaa\n",
      "5 aaaaa\n",
      "6 aaaaa\n",
      "7 aaaaa\n",
      "8 aaaaa\n",
      "9 aaaaa\n",
      "10 aaaaa\n"
     ]
    }
   ],
   "source": [
    "a=0\n",
    "while a <=10:\n",
    "    print(a,'aaaaa')\n",
    "    a+=1"
   ]
  },
  {
   "cell_type": "markdown",
   "metadata": {},
   "source": [
    "# Continue\n",
    "\n",
    "it is used to skip some one "
   ]
  },
  {
   "cell_type": "code",
   "execution_count": 4,
   "metadata": {},
   "outputs": [
    {
     "name": "stdout",
     "output_type": "stream",
     "text": [
      "1 aaaaaa\n",
      "2 aaaaaa\n",
      "3 aaaaaa\n",
      "4 aaaaaa\n",
      "5 aaaaaa\n",
      "7 aaaaaa\n",
      "8 aaaaaa\n",
      "9 aaaaaa\n",
      "10 aaaaaa\n",
      "11 aaaaaa\n"
     ]
    }
   ],
   "source": [
    "a=0\n",
    "while a <=10:\n",
    "    a+=1\n",
    "    if a==6:\n",
    "        continue\n",
    "    print(a,'aaaaaa')"
   ]
  },
  {
   "cell_type": "code",
   "execution_count": null,
   "metadata": {},
   "outputs": [
    {
     "name": "stdout",
     "output_type": "stream",
     "text": [
      "0 aaaaaa\n",
      "1 aaaaaa\n",
      "2 aaaaaa\n",
      "3 aaaaaa\n",
      "4 aaaaaa\n",
      "5 aaaaaa\n"
     ]
    }
   ],
   "source": [
    "a=0\n",
    "while a <=10:\n",
    "    \n",
    "    if a==6:\n",
    "        continue\n",
    "    print(a,'aaaaaa')\n",
    "    \n",
    "    a+=1\n",
    "    "
   ]
  },
  {
   "cell_type": "markdown",
   "metadata": {},
   "source": [
    "# Break\n",
    "it is used to stop "
   ]
  },
  {
   "cell_type": "code",
   "execution_count": 7,
   "metadata": {},
   "outputs": [
    {
     "name": "stdout",
     "output_type": "stream",
     "text": [
      "1 aaaaaa\n",
      "2 aaaaaa\n",
      "3 aaaaaa\n",
      "4 aaaaaa\n",
      "5 aaaaaa\n"
     ]
    }
   ],
   "source": [
    "a=0\n",
    "while a <=10:\n",
    "    a+=1\n",
    "    if a==6:\n",
    "        break\n",
    "    print(a,'aaaaaa')"
   ]
  },
  {
   "cell_type": "code",
   "execution_count": 11,
   "metadata": {},
   "outputs": [
    {
     "name": "stdout",
     "output_type": "stream",
     "text": [
      "2 *****\n"
     ]
    }
   ],
   "source": [
    "a=1\n",
    "while a <=5:\n",
    "    a+=1\n",
    "    if a==3:\n",
    "        break\n",
    "    print(a,\"*****\")\n",
    "   "
   ]
  },
  {
   "cell_type": "code",
   "execution_count": null,
   "metadata": {},
   "outputs": [],
   "source": []
  },
  {
   "cell_type": "code",
   "execution_count": 14,
   "metadata": {},
   "outputs": [
    {
     "name": "stdout",
     "output_type": "stream",
     "text": [
      "Invitation Sent to : Ali\n",
      "Invitation Sent to : Asim\n",
      "Invitation Sent to : Babar\n"
     ]
    },
    {
     "ename": "IndexError",
     "evalue": "list index out of range",
     "output_type": "error",
     "traceback": [
      "\u001b[1;31m---------------------------------------------------------------------------\u001b[0m",
      "\u001b[1;31mIndexError\u001b[0m                                Traceback (most recent call last)",
      "\u001b[1;32m<ipython-input-14-c1758307c617>\u001b[0m in \u001b[0;36m<module>\u001b[1;34m\u001b[0m\n\u001b[0;32m      3\u001b[0m \u001b[1;32mwhile\u001b[0m \u001b[0mi\u001b[0m\u001b[1;33m<=\u001b[0m\u001b[0mlen\u001b[0m\u001b[1;33m(\u001b[0m\u001b[0mnamelist\u001b[0m\u001b[1;33m)\u001b[0m\u001b[1;33m:\u001b[0m\u001b[1;33m\u001b[0m\u001b[1;33m\u001b[0m\u001b[0m\n\u001b[0;32m      4\u001b[0m \u001b[1;33m\u001b[0m\u001b[0m\n\u001b[1;32m----> 5\u001b[1;33m     \u001b[1;32mif\u001b[0m \u001b[0mnamelist\u001b[0m\u001b[1;33m[\u001b[0m\u001b[0mi\u001b[0m\u001b[1;33m]\u001b[0m \u001b[1;33m==\u001b[0m\u001b[1;34m\"Azhar\"\u001b[0m\u001b[1;33m:\u001b[0m\u001b[1;33m\u001b[0m\u001b[1;33m\u001b[0m\u001b[0m\n\u001b[0m\u001b[0;32m      6\u001b[0m         \u001b[0mi\u001b[0m\u001b[1;33m+=\u001b[0m\u001b[1;36m1\u001b[0m\u001b[1;33m\u001b[0m\u001b[1;33m\u001b[0m\u001b[0m\n\u001b[0;32m      7\u001b[0m         \u001b[1;32mcontinue\u001b[0m\u001b[1;33m\u001b[0m\u001b[1;33m\u001b[0m\u001b[0m\n",
      "\u001b[1;31mIndexError\u001b[0m: list index out of range"
     ]
    }
   ],
   "source": [
    "namelist=[\"Ali\",\"Asim\",\"Azhar\",\"Babar\"]\n",
    "i=0\n",
    "while i<=len(namelist):\n",
    "    \n",
    "    if namelist[i] ==\"Azhar\":\n",
    "        i+=1 \n",
    "        continue\n",
    "    print(\"Invitation Sent to :\",namelist[i])\n",
    "    i+=1 \n",
    "    \n",
    "       \n",
    "    "
   ]
  },
  {
   "cell_type": "code",
   "execution_count": null,
   "metadata": {},
   "outputs": [],
   "source": []
  },
  {
   "cell_type": "code",
   "execution_count": 2,
   "metadata": {},
   "outputs": [
    {
     "name": "stdout",
     "output_type": "stream",
     "text": [
      "Enter a city , or q for quit:multan\n",
      "Enter a city , or q for quit:Multan\n",
      "It is the cleanest city\n",
      "Enter a city , or q for quit:q\n"
     ]
    }
   ],
   "source": [
    "cities=[\"Karachi\",\"Multan\",'Quetta',\"Lahore\",\"Islamabad\"]\n",
    "user_input=\"\"\n",
    "while user_input !=\"q\":\n",
    "    user_input=input(\"Enter a city , or q for quit:\")\n",
    "    if user_input !=\"q\":\n",
    "        for clean_city in cities:\n",
    "            if user_input==clean_city:\n",
    "                print(\"It is the cleanest city\")\n",
    "            \n",
    "            "
   ]
  },
  {
   "cell_type": "code",
   "execution_count": null,
   "metadata": {},
   "outputs": [],
   "source": []
  },
  {
   "cell_type": "code",
   "execution_count": null,
   "metadata": {},
   "outputs": [],
   "source": []
  }
 ],
 "metadata": {
  "kernelspec": {
   "display_name": "Python 3",
   "language": "python",
   "name": "python3"
  },
  "language_info": {
   "codemirror_mode": {
    "name": "ipython",
    "version": 3
   },
   "file_extension": ".py",
   "mimetype": "text/x-python",
   "name": "python",
   "nbconvert_exporter": "python",
   "pygments_lexer": "ipython3",
   "version": "3.7.1"
  }
 },
 "nbformat": 4,
 "nbformat_minor": 2
}
