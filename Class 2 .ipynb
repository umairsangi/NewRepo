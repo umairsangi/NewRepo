{
 "cells": [
  {
   "cell_type": "markdown",
   "metadata": {},
   "source": [
    "Class 2 : Variable For numbers Legal illegal Variables String + Number"
   ]
  },
  {
   "cell_type": "code",
   "execution_count": 1,
   "metadata": {},
   "outputs": [
    {
     "name": "stdout",
     "output_type": "stream",
     "text": [
      "Muhammad Ali Sangi\n"
     ]
    }
   ],
   "source": [
    "First_Name = \"Muhammad\"\n",
    "Middle_Name = \"Ali\"\n",
    "Sur_Name = \"Sangi\"\n",
    "\n",
    "Full_Name= First_Name+' ' + Middle_Name + ' ' + Sur_Name \n",
    "\n",
    "print(Full_Name)"
   ]
  },
  {
   "cell_type": "code",
   "execution_count": 8,
   "metadata": {},
   "outputs": [
    {
     "name": "stdout",
     "output_type": "stream",
     "text": [
      "Hello\bWorld\n"
     ]
    }
   ],
   "source": [
    "print(\"Hello\\bWorld\")"
   ]
  },
  {
   "cell_type": "markdown",
   "metadata": {},
   "source": [
    "# Type Casting"
   ]
  },
  {
   "cell_type": "code",
   "execution_count": 11,
   "metadata": {},
   "outputs": [
    {
     "name": "stdout",
     "output_type": "stream",
     "text": [
      "There are 200 students\n"
     ]
    }
   ],
   "source": [
    "numOfStudent = 200\n",
    "print(\"There are \" + str(numOfStudent) + \" students\")"
   ]
  },
  {
   "cell_type": "code",
   "execution_count": 21,
   "metadata": {},
   "outputs": [
    {
     "name": "stdout",
     "output_type": "stream",
     "text": [
      "Number Of Girls =100\n",
      "Number Of Boys =200\n",
      "There are 100 girls and 200 boys in my class\n",
      "The total pupil are  300\n"
     ]
    }
   ],
   "source": [
    "#there are 10 girls and 20 boys in my class\n",
    "\n",
    "No_Of_Girls = int(input(\"Number Of Girls =\"))\n",
    "\n",
    "No_Of_Boys= int(input(\"Number Of Boys =\"))\n",
    "Total= No_Of_Boys + No_Of_Girls\n",
    "print(\"There are\" +' '+ str(No_Of_Girls)+\" girls and\"+ ' '+str(No_Of_Boys)+' ' +\"boys in my class\",)\n",
    "print(\"The total pupil are \" ,Total)"
   ]
  },
  {
   "cell_type": "markdown",
   "metadata": {},
   "source": [
    "# Moduler Operater"
   ]
  },
  {
   "cell_type": "code",
   "execution_count": 23,
   "metadata": {},
   "outputs": [
    {
     "data": {
      "text/plain": [
       "3"
      ]
     },
     "execution_count": 23,
     "metadata": {},
     "output_type": "execute_result"
    }
   ],
   "source": [
    "13%5  #Remainder "
   ]
  },
  {
   "cell_type": "code",
   "execution_count": 25,
   "metadata": {},
   "outputs": [
    {
     "data": {
      "text/plain": [
       "2.6"
      ]
     },
     "execution_count": 25,
     "metadata": {},
     "output_type": "execute_result"
    }
   ],
   "source": [
    "13/5 #Quotient\n"
   ]
  },
  {
   "cell_type": "code",
   "execution_count": null,
   "metadata": {},
   "outputs": [],
   "source": []
  }
 ],
 "metadata": {
  "kernelspec": {
   "display_name": "Python 3",
   "language": "python",
   "name": "python3"
  },
  "language_info": {
   "codemirror_mode": {
    "name": "ipython",
    "version": 3
   },
   "file_extension": ".py",
   "mimetype": "text/x-python",
   "name": "python",
   "nbconvert_exporter": "python",
   "pygments_lexer": "ipython3",
   "version": "3.7.1"
  }
 },
 "nbformat": 4,
 "nbformat_minor": 2
}
