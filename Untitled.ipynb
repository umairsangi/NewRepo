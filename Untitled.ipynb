{
 "cells": [
  {
   "cell_type": "code",
   "execution_count": null,
   "metadata": {},
   "outputs": [],
   "source": [
    "print(\"**** Welcome To Your Bank ****\")\n",
    "Customer_Id:input(\"Enter Customer ID:\")\n",
    "Pin:input(\"Enter Your Four Digits Pin Code:\")\n",
    "if pin=='1234' : \n",
    "    print (Button)\n",
    "    \n",
    "else:\n",
    "    print(\"incorrect password.\")\n",
    "    \n",
    "Balance=10000\n",
    "print(\"Press 1 to deposit\")\n",
    "print(\"Press 2 to Withdraw\")\n",
    "print(\"Press 3 to Check Balance\")\n",
    "print(\"Press 4 to Exit\")\n",
    "Button=input(\"Enter the Button :\")\n",
    "\n",
    "def Button1():\n",
    "    if  Button==1:\n",
    "        deposit = int(input(\"Enter the amount to deposit :\"))\n",
    "        New_Balance= Balance + deposit\n",
    "        print(\"You have Deposited :\",deposit)\n",
    "        print(\"New Balance : \",New_Balance)\n",
    "        return deposit\n",
    "    Button1()\n",
    "        \n",
    "    \n",
    "\n",
    "\n",
    "\n",
    "\n",
    "\n",
    "#if Button =='1' :\n",
    " #   deposit = int(input(\"Enter the amount to deposit :\"))\n",
    "  #  New_Balance= Balance + deposit\n",
    "   # print(\"You have Deposited :\",deposit)\n",
    "    #print(\"New Balance : \",New_Balance)\n",
    "\n",
    "    \n",
    "    \n",
    "#elif Button == '2'  :\n",
    " #   withdraw = int (input(\"Enter the amount to withdraw :\"))\n",
    "  #  Withdraw_amount=New_Balance - withdraw \n",
    "   # print(\"You have Withdrawn :\",(withdraw) ,\"Your Remaining Balance is :\",(Withdraw_amount) , sep=\"\\n\")\n",
    "    \n",
    "#elif Button =='3':\n",
    " #   print (\"Your Have Amount of :\",New_Balance) \n",
    "    \n",
    "#elif Button == '4' :\n",
    " #   print(\"***** Thankyou For Banking With Us *****\")\n",
    "\n"
   ]
  },
  {
   "cell_type": "code",
   "execution_count": 6,
   "metadata": {},
   "outputs": [],
   "source": [
    "\n",
    "def Button1():\n",
    "    Button=input(\"Enter the Button :\")\n",
    "    deposit=10000\n",
    "    if  Button==1:\n",
    "        deposit = int(input(\"Enter the amount to deposit :\"))\n",
    "        New_Balance= Balance + deposit\n",
    "        \n",
    "        print(\"You have Deposited :\",deposit)\n",
    "        print(\"New Balance : \",New_Balance)\n",
    "        return (Button)\n",
    "   \n",
    "        "
   ]
  },
  {
   "cell_type": "code",
   "execution_count": 8,
   "metadata": {},
   "outputs": [
    {
     "name": "stdout",
     "output_type": "stream",
     "text": [
      "Enter the Button :1234\n"
     ]
    },
    {
     "ename": "NameError",
     "evalue": "name 'Button' is not defined",
     "output_type": "error",
     "traceback": [
      "\u001b[1;31m---------------------------------------------------------------------------\u001b[0m",
      "\u001b[1;31mNameError\u001b[0m                                 Traceback (most recent call last)",
      "\u001b[1;32m<ipython-input-8-9e3d6bbcab47>\u001b[0m in \u001b[0;36m<module>\u001b[1;34m\u001b[0m\n\u001b[0;32m      1\u001b[0m \u001b[0md\u001b[0m\u001b[1;33m=\u001b[0m\u001b[0mButton1\u001b[0m\u001b[1;33m(\u001b[0m\u001b[1;33m)\u001b[0m\u001b[1;33m\u001b[0m\u001b[1;33m\u001b[0m\u001b[0m\n\u001b[1;32m----> 2\u001b[1;33m \u001b[0mprint\u001b[0m\u001b[1;33m(\u001b[0m\u001b[0mButton\u001b[0m\u001b[1;33m)\u001b[0m\u001b[1;33m\u001b[0m\u001b[1;33m\u001b[0m\u001b[0m\n\u001b[0m\u001b[0;32m      3\u001b[0m \u001b[1;33m\u001b[0m\u001b[0m\n",
      "\u001b[1;31mNameError\u001b[0m: name 'Button' is not defined"
     ]
    }
   ],
   "source": [
    "d=Button1()\n",
    "print(Button)\n",
    "\n"
   ]
  },
  {
   "cell_type": "code",
   "execution_count": null,
   "metadata": {},
   "outputs": [],
   "source": []
  }
 ],
 "metadata": {
  "kernelspec": {
   "display_name": "Python 3",
   "language": "python",
   "name": "python3"
  },
  "language_info": {
   "codemirror_mode": {
    "name": "ipython",
    "version": 3
   },
   "file_extension": ".py",
   "mimetype": "text/x-python",
   "name": "python",
   "nbconvert_exporter": "python",
   "pygments_lexer": "ipython3",
   "version": "3.7.1"
  }
 },
 "nbformat": 4,
 "nbformat_minor": 2
}
