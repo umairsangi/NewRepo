{
 "cells": [
  {
   "cell_type": "code",
   "execution_count": 4,
   "metadata": {},
   "outputs": [
    {
     "name": "stdout",
     "output_type": "stream",
     "text": [
      "Pakistan\n"
     ]
    },
    {
     "data": {
      "text/plain": [
       "0"
      ]
     },
     "execution_count": 4,
     "metadata": {},
     "output_type": "execute_result"
    }
   ],
   "source": [
    "def abc():                              # Basic Syntax Of Function\n",
    "    print (\"Pakistan\")\n",
    "    return 0\n",
    "\n",
    "abc()\n",
    "    "
   ]
  },
  {
   "cell_type": "code",
   "execution_count": 7,
   "metadata": {},
   "outputs": [
    {
     "name": "stdout",
     "output_type": "stream",
     "text": [
      "Value : 30\n"
     ]
    }
   ],
   "source": [
    "def add():\n",
    "    a=10                    # Jo value function ka andr call kare ha .wo function ka bahir call nae kar sakte\n",
    "    b=20\n",
    "    c=a+b\n",
    "    return c\n",
    "c=add()\n",
    "print(\"Value :\",c)"
   ]
  },
  {
   "cell_type": "code",
   "execution_count": null,
   "metadata": {},
   "outputs": [],
   "source": []
  },
  {
   "cell_type": "code",
   "execution_count": 8,
   "metadata": {},
   "outputs": [
    {
     "name": "stdout",
     "output_type": "stream",
     "text": [
      "First Number:100\n",
      "Second Number200\n",
      "100 * 200 = 20000\n"
     ]
    }
   ],
   "source": [
    "def multi():\n",
    "    global m                              # Global is used to call the variable out of the function aswell\n",
    "    global n\n",
    "    m=int(input(\"First Number:\"))\n",
    "    n=int(input(\"Second Number\"))\n",
    "    d=m*n\n",
    "    return d\n",
    "d=multi()\n",
    "print(m,\"*\",n,\"=\",d)\n",
    "        "
   ]
  },
  {
   "cell_type": "code",
   "execution_count": 1,
   "metadata": {},
   "outputs": [],
   "source": [
    "def add_two_number(a,b): # Positional Argument \n",
    "    c=a*b               # We can return more then when values but in the form of tuple\n",
    "    print(c)            # Return must be the last line of the function\n",
    "    return c"
   ]
  },
  {
   "cell_type": "code",
   "execution_count": 10,
   "metadata": {},
   "outputs": [
    {
     "name": "stdout",
     "output_type": "stream",
     "text": [
      "2000\n",
      "My aswer is  2000\n"
     ]
    }
   ],
   "source": [
    "d=add_two_number(10,200)\n",
    "print(\"My aswer is \",d)"
   ]
  },
  {
   "cell_type": "code",
   "execution_count": null,
   "metadata": {},
   "outputs": [],
   "source": [
    "d"
   ]
  },
  {
   "cell_type": "code",
   "execution_count": 2,
   "metadata": {},
   "outputs": [],
   "source": [
    "# Keyword Argument\n",
    "#Keyword argument is used to make sure the position of arguments remain same\n",
    "def Names(Husband , Wife):\n",
    "    print(\"Husband name is  \",Husband,\"And Wife name is \",Wife)\n",
    "    \n",
    "    "
   ]
  },
  {
   "cell_type": "code",
   "execution_count": 3,
   "metadata": {},
   "outputs": [
    {
     "name": "stdout",
     "output_type": "stream",
     "text": [
      "Husband name is   Ali And Wife name is  Zehra\n"
     ]
    }
   ],
   "source": [
    "Names(Wife=\"Zehra\",Husband=\"Ali\")"
   ]
  },
  {
   "cell_type": "code",
   "execution_count": 11,
   "metadata": {},
   "outputs": [],
   "source": [
    "#Default Argument\n",
    "\n",
    "def addition(a=0,b=0,c=0):\n",
    "      return a+b+c"
   ]
  },
  {
   "cell_type": "code",
   "execution_count": 12,
   "metadata": {},
   "outputs": [
    {
     "data": {
      "text/plain": [
       "3"
      ]
     },
     "execution_count": 12,
     "metadata": {},
     "output_type": "execute_result"
    }
   ],
   "source": [
    "addition(1,2)"
   ]
  },
  {
   "cell_type": "code",
   "execution_count": 13,
   "metadata": {},
   "outputs": [],
   "source": [
    "def keyword_positional_test(weight,gender,contact,age): #Positional And Keyword Mixing.\n",
    "    print(\"What is your age\",str(age))\n",
    "    print(\"What is your Gender\",gender)\n",
    "    print(\"What is your weight\",str(weight))\n",
    "    print(\"What is your contact\",(contact))\n",
    "    \n",
    "    \n",
    "    "
   ]
  },
  {
   "cell_type": "code",
   "execution_count": 14,
   "metadata": {},
   "outputs": [
    {
     "name": "stdout",
     "output_type": "stream",
     "text": [
      "What is your age 30\n",
      "What is your Gender female\n",
      "What is your weight 100\n",
      "What is your contact 1234\n"
     ]
    }
   ],
   "source": [
    "keyword_positional_test(100,'female',contact=\"1234\",age=30)"
   ]
  },
  {
   "cell_type": "code",
   "execution_count": null,
   "metadata": {},
   "outputs": [],
   "source": []
  },
  {
   "cell_type": "code",
   "execution_count": null,
   "metadata": {},
   "outputs": [],
   "source": []
  }
 ],
 "metadata": {
  "kernelspec": {
   "display_name": "Python 3",
   "language": "python",
   "name": "python3"
  },
  "language_info": {
   "codemirror_mode": {
    "name": "ipython",
    "version": 3
   },
   "file_extension": ".py",
   "mimetype": "text/x-python",
   "name": "python",
   "nbconvert_exporter": "python",
   "pygments_lexer": "ipython3",
   "version": "3.7.1"
  }
 },
 "nbformat": 4,
 "nbformat_minor": 2
}
