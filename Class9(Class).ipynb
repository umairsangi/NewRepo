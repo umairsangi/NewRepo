{
 "cells": [
  {
   "cell_type": "code",
   "execution_count": 5,
   "metadata": {},
   "outputs": [],
   "source": [
    "\n",
    "class Patient():                 #Double underscore is called Dinder\n",
    "    def __init__(self,name,last_name,bimari,age=50):#Initializer(Also known as Constructior)\n",
    "     \n",
    "    ######## Attributes #########\n",
    "        self.name=name\n",
    "        self.last_name=last_name\n",
    "        self.age=age\n",
    "        self.bimari=bimari\n",
    "    \n",
    "    ###### Functionalities #######\n",
    "    def walk(self):\n",
    "        print(f\"{self.name} is walking\")\n",
    "    def eatsFood(self):\n",
    "         print(f\"{self.name} is eating food\")\n",
    "    def takesmedicine(self):\n",
    "         print(f\"{self.name} is taking medicince\")\n",
    "    "
   ]
  },
  {
   "cell_type": "code",
   "execution_count": 4,
   "metadata": {},
   "outputs": [],
   "source": [
    "#### Instiance ####\n",
    "\n",
    "patient1=Patient(\"Amir\",\"Khan\",\"nothing\")"
   ]
  },
  {
   "cell_type": "code",
   "execution_count": 5,
   "metadata": {},
   "outputs": [],
   "source": [
    "patient2=Patient(\"Vicky\",\"ric\",\"many\",78)\n"
   ]
  },
  {
   "cell_type": "code",
   "execution_count": 6,
   "metadata": {},
   "outputs": [
    {
     "name": "stdout",
     "output_type": "stream",
     "text": [
      "Amir is walking\n"
     ]
    }
   ],
   "source": [
    "patient1.walk()"
   ]
  },
  {
   "cell_type": "code",
   "execution_count": 7,
   "metadata": {},
   "outputs": [
    {
     "data": {
      "text/plain": [
       "'Vicky'"
      ]
     },
     "execution_count": 7,
     "metadata": {},
     "output_type": "execute_result"
    }
   ],
   "source": [
    "patient2.name"
   ]
  },
  {
   "cell_type": "code",
   "execution_count": 8,
   "metadata": {},
   "outputs": [
    {
     "data": {
      "text/plain": [
       "'Amir'"
      ]
     },
     "execution_count": 8,
     "metadata": {},
     "output_type": "execute_result"
    }
   ],
   "source": [
    "patient1.name"
   ]
  },
  {
   "cell_type": "code",
   "execution_count": 9,
   "metadata": {},
   "outputs": [
    {
     "data": {
      "text/plain": [
       "50"
      ]
     },
     "execution_count": 9,
     "metadata": {},
     "output_type": "execute_result"
    }
   ],
   "source": [
    "patient1.age\n"
   ]
  },
  {
   "cell_type": "code",
   "execution_count": 10,
   "metadata": {},
   "outputs": [
    {
     "name": "stdout",
     "output_type": "stream",
     "text": [
      "Vicky is eating food\n"
     ]
    }
   ],
   "source": [
    "patient2.eatsFood()"
   ]
  },
  {
   "cell_type": "code",
   "execution_count": 16,
   "metadata": {},
   "outputs": [
    {
     "name": "stdout",
     "output_type": "stream",
     "text": [
      "Ali is eating food\n"
     ]
    }
   ],
   "source": [
    "patient3.eatsFood()"
   ]
  },
  {
   "cell_type": "code",
   "execution_count": 78,
   "metadata": {},
   "outputs": [
    {
     "data": {
      "text/plain": [
       "78"
      ]
     },
     "execution_count": 78,
     "metadata": {},
     "output_type": "execute_result"
    }
   ],
   "source": [
    "patient2.age"
   ]
  },
  {
   "cell_type": "code",
   "execution_count": 11,
   "metadata": {},
   "outputs": [],
   "source": [
    "    def sayIfMinor(fname,lname,age):\n",
    "        if  age < 21:\n",
    "            print(f\"{fname} {lname} is a minor \")\n",
    "        else:\n",
    "            print(f\"{fname} {lname} is an adult \")"
   ]
  },
  {
   "cell_type": "code",
   "execution_count": 12,
   "metadata": {},
   "outputs": [
    {
     "name": "stdout",
     "output_type": "stream",
     "text": [
      "Amir Khan is an adult \n"
     ]
    }
   ],
   "source": [
    "sayIfMinor(patient1.name,patient1.last_name,patient1.age)"
   ]
  },
  {
   "cell_type": "code",
   "execution_count": 13,
   "metadata": {},
   "outputs": [],
   "source": [
    "patient3=Patient(\"Ali\",\"Saad\",\"fever\",20)"
   ]
  },
  {
   "cell_type": "code",
   "execution_count": 14,
   "metadata": {},
   "outputs": [
    {
     "data": {
      "text/plain": [
       "20"
      ]
     },
     "execution_count": 14,
     "metadata": {},
     "output_type": "execute_result"
    }
   ],
   "source": [
    "patient3.age"
   ]
  },
  {
   "cell_type": "code",
   "execution_count": 15,
   "metadata": {},
   "outputs": [
    {
     "name": "stdout",
     "output_type": "stream",
     "text": [
      "Ali Saad is a minor \n"
     ]
    }
   ],
   "source": [
    "sayIfMinor(patient3.name,patient3.last_name,patient3.age)"
   ]
  },
  {
   "cell_type": "code",
   "execution_count": 17,
   "metadata": {},
   "outputs": [
    {
     "data": {
      "text/plain": [
       "'fever'"
      ]
     },
     "execution_count": 17,
     "metadata": {},
     "output_type": "execute_result"
    }
   ],
   "source": [
    "patient3.bimari"
   ]
  },
  {
   "cell_type": "code",
   "execution_count": 20,
   "metadata": {},
   "outputs": [
    {
     "data": {
      "text/plain": [
       "'malaria'"
      ]
     },
     "execution_count": 20,
     "metadata": {},
     "output_type": "execute_result"
    }
   ],
   "source": [
    "patient1.bimari=\"malaria\"\n",
    "patient1.bimari"
   ]
  },
  {
   "cell_type": "code",
   "execution_count": 28,
   "metadata": {},
   "outputs": [],
   "source": [
    "######Practice######\n",
    "\n",
    "class Dog():\n",
    "    \"A simple attempt to model a dog\"\n",
    "    \n",
    "    def __init__(self,name,age):\n",
    "        self.name=name\n",
    "        self.age=age\n",
    "    def sit(self):\n",
    "        print(f\"{self.name} is sitting\")\n",
    "    def roll_over(self):\n",
    "        print(f\"{self.name} is rolling over\")\n",
    "        "
   ]
  },
  {
   "cell_type": "code",
   "execution_count": 29,
   "metadata": {},
   "outputs": [],
   "source": [
    "dog1=Dog(\"Puppy\",3)"
   ]
  },
  {
   "cell_type": "code",
   "execution_count": 30,
   "metadata": {},
   "outputs": [
    {
     "data": {
      "text/plain": [
       "'Puppy'"
      ]
     },
     "execution_count": 30,
     "metadata": {},
     "output_type": "execute_result"
    }
   ],
   "source": [
    "dog1.name"
   ]
  },
  {
   "cell_type": "code",
   "execution_count": 31,
   "metadata": {},
   "outputs": [
    {
     "name": "stdout",
     "output_type": "stream",
     "text": [
      "Puppy is rolling over\n"
     ]
    }
   ],
   "source": [
    "dog1.roll_over()"
   ]
  },
  {
   "cell_type": "code",
   "execution_count": 32,
   "metadata": {},
   "outputs": [
    {
     "name": "stdout",
     "output_type": "stream",
     "text": [
      "Puppy is sitting\n"
     ]
    }
   ],
   "source": [
    "dog1.sit()"
   ]
  },
  {
   "cell_type": "code",
   "execution_count": 107,
   "metadata": {},
   "outputs": [],
   "source": [
    "#### Restraunt 9.1 & 9.2 Exercise #####\n",
    "class Restaurant():\n",
    "    def __init__(self,restaurantName,cuisineType):\n",
    "        self.restaurantName=restaurantName\n",
    "        self.cuisineType=cuisineType\n",
    "        self.number_served=0\n",
    "    \n",
    "    def OpenRestraunt(self):\n",
    "        print(f\"{self.restaurantName} is now open\")\n",
    "    def DescribeRestraunt(self):\n",
    "        print(f\"{self.restaurantName} is an {self.cuisineType} restraunt and it is one of the top restaurants in the city\")\n",
    "   \n",
    "\n",
    "    def read_customers(self):\n",
    "        print(f\"There has been {self.number_served} customers in the restraurant\")\n",
    "    \n",
    "    def set_number_served(self,number):\n",
    "        if(number >=self.number_served):\n",
    "            self.number_served=number\n",
    "            print(f\"Total Customer Servered : {self.number_served}\")\n",
    "        else:\n",
    "            print(\"Incorrect Number\")\n",
    "\n",
    "            \n",
    "\n",
    "\n",
    "\n",
    "    "
   ]
  },
  {
   "cell_type": "code",
   "execution_count": 98,
   "metadata": {},
   "outputs": [],
   "source": [
    "restraunt1=Restaurant(\"Bar B Que Tonight\",\"Continental\")"
   ]
  },
  {
   "cell_type": "code",
   "execution_count": 80,
   "metadata": {},
   "outputs": [],
   "source": [
    "restraunt2=Restaurant(\"BurgerKing\",\"Western\")\n"
   ]
  },
  {
   "cell_type": "code",
   "execution_count": 81,
   "metadata": {},
   "outputs": [],
   "source": [
    "resturant3=Restaurant(\"Pomppie\",\"Italian\")"
   ]
  },
  {
   "cell_type": "code",
   "execution_count": 86,
   "metadata": {},
   "outputs": [
    {
     "name": "stdout",
     "output_type": "stream",
     "text": [
      "Bar B Que Tonight is now open\n",
      "0\n"
     ]
    }
   ],
   "source": [
    "restraunt1.OpenRestraunt()\n",
    "\n",
    "restraunt1.set_number_served()"
   ]
  },
  {
   "cell_type": "code",
   "execution_count": 83,
   "metadata": {},
   "outputs": [
    {
     "name": "stdout",
     "output_type": "stream",
     "text": [
      "BurgerKing is an Western restraunt and it is one of the top restaurants in the city\n"
     ]
    }
   ],
   "source": [
    "restraunt2.DescribeRestraunt()"
   ]
  },
  {
   "cell_type": "code",
   "execution_count": 84,
   "metadata": {},
   "outputs": [
    {
     "data": {
      "text/plain": [
       "'Pomppie'"
      ]
     },
     "execution_count": 84,
     "metadata": {},
     "output_type": "execute_result"
    }
   ],
   "source": [
    "resturant3.restaurantName"
   ]
  },
  {
   "cell_type": "code",
   "execution_count": 85,
   "metadata": {},
   "outputs": [
    {
     "data": {
      "text/plain": [
       "'Continental'"
      ]
     },
     "execution_count": 85,
     "metadata": {},
     "output_type": "execute_result"
    }
   ],
   "source": [
    "restraunt1.cuisineType"
   ]
  },
  {
   "cell_type": "code",
   "execution_count": 27,
   "metadata": {},
   "outputs": [],
   "source": [
    "##########      CAR            ###############\n",
    "\n",
    "class Car():\n",
    "    def __init__(self,make,model,year):\n",
    "        self.make=make\n",
    "        self.model=model\n",
    "        self.year=year\n",
    "        self.odoMeter_reading=0\n",
    "        self.fuel=\"20 ltr\"\n",
    "        \n",
    "    def get_descriptive_name(self):\n",
    "        long_name=(f\"{self.make} {self.model} {self.year}\")\n",
    "        return long_name.title()\n",
    "    def read_OdoMeter(self):\n",
    "        print(f\"The Car has {self.odoMeter_reading} miles on it\")\n",
    "    def update_OdoMeter(self,mileage):\n",
    "        if(mileage >=self.odoMeter_reading):\n",
    "            self.odoMeter_reading=mileage\n",
    "            print(\"Meter has been updated\")\n",
    "        else:\n",
    "            print(\"You can't roll back your meter\")\n",
    "            \n",
    "    def increment_odometer(self,miles):\n",
    "        self.odoMeter_reading +=miles\n",
    "     \n",
    "    def get_fuel_value(self):\n",
    "        print(self.fuel)\n",
    "    \n"
   ]
  },
  {
   "cell_type": "code",
   "execution_count": 28,
   "metadata": {},
   "outputs": [
    {
     "name": "stdout",
     "output_type": "stream",
     "text": [
      "Audi A4 2016\n",
      "The Car has 0 miles on it\n"
     ]
    }
   ],
   "source": [
    "my_new_car=Car(\"Audi\",\"A4\",2016)\n",
    "print(my_new_car.get_descriptive_name())\n",
    "\n",
    "\n",
    "\n",
    "my_new_car.read_OdoMeter()\n",
    "\n",
    "        "
   ]
  },
  {
   "cell_type": "code",
   "execution_count": 29,
   "metadata": {},
   "outputs": [
    {
     "name": "stdout",
     "output_type": "stream",
     "text": [
      "Meter has been updated\n",
      "The Car has 23 miles on it\n"
     ]
    }
   ],
   "source": [
    "my_new_car.update_OdoMeter(23)\n",
    "my_new_car.read_OdoMeter()"
   ]
  },
  {
   "cell_type": "code",
   "execution_count": 36,
   "metadata": {},
   "outputs": [
    {
     "name": "stdout",
     "output_type": "stream",
     "text": [
      "You can't roll back your meter\n",
      "The Car has 40 miles on it\n"
     ]
    }
   ],
   "source": [
    "my_new_car.update_OdoMeter(12)\n",
    "my_new_car.read_OdoMeter()"
   ]
  },
  {
   "cell_type": "code",
   "execution_count": 40,
   "metadata": {},
   "outputs": [
    {
     "name": "stdout",
     "output_type": "stream",
     "text": [
      "You can't roll back your meter\n",
      "The Car has 45 miles on it\n"
     ]
    }
   ],
   "source": [
    "my_new_car.update_OdoMeter(25)\n",
    "my_new_car.read_OdoMeter()"
   ]
  },
  {
   "cell_type": "code",
   "execution_count": 38,
   "metadata": {},
   "outputs": [
    {
     "name": "stdout",
     "output_type": "stream",
     "text": [
      "The Car has 45 miles on it\n"
     ]
    }
   ],
   "source": [
    "my_new_car.increment_odometer(5)\n",
    "my_new_car.read_OdoMeter()"
   ]
  },
  {
   "cell_type": "code",
   "execution_count": 39,
   "metadata": {},
   "outputs": [
    {
     "name": "stdout",
     "output_type": "stream",
     "text": [
      "20 ltr\n"
     ]
    }
   ],
   "source": [
    "my_new_car.get_fuel_value()"
   ]
  },
  {
   "cell_type": "code",
   "execution_count": 70,
   "metadata": {},
   "outputs": [],
   "source": [
    "#######Exercise 9.3 ##################\n",
    "\n",
    "class User():\n",
    "    def __init__(self,name,age,education):\n",
    "        self.name=name\n",
    "        self.age=age\n",
    "        self.education=education\n",
    "    \n",
    "    def describe_user(self):\n",
    "        print(f\"I am {self.name} , age is {self.age} and i have studied {self.education}\")\n",
    "              \n",
    "    def greeting_user(self):\n",
    "         print(f\" Hello {self.name}.Your are welcome here :) \")         "
   ]
  },
  {
   "cell_type": "code",
   "execution_count": 71,
   "metadata": {},
   "outputs": [],
   "source": [
    "user_1=User(\"Ali\",32,\"BS\")"
   ]
  },
  {
   "cell_type": "code",
   "execution_count": 72,
   "metadata": {},
   "outputs": [],
   "source": [
    "user_2=User(\"Anas\",44,\"MBA\")"
   ]
  },
  {
   "cell_type": "code",
   "execution_count": 73,
   "metadata": {},
   "outputs": [
    {
     "data": {
      "text/plain": [
       "'Ali'"
      ]
     },
     "execution_count": 73,
     "metadata": {},
     "output_type": "execute_result"
    }
   ],
   "source": [
    "user1.name"
   ]
  },
  {
   "cell_type": "code",
   "execution_count": 74,
   "metadata": {},
   "outputs": [
    {
     "name": "stdout",
     "output_type": "stream",
     "text": [
      " Hello Ali.Your are welcome here :) \n"
     ]
    }
   ],
   "source": [
    "user_1.greeting_user()"
   ]
  },
  {
   "cell_type": "code",
   "execution_count": 75,
   "metadata": {},
   "outputs": [
    {
     "data": {
      "text/plain": [
       "32"
      ]
     },
     "execution_count": 75,
     "metadata": {},
     "output_type": "execute_result"
    }
   ],
   "source": [
    "user1.age"
   ]
  },
  {
   "cell_type": "code",
   "execution_count": 76,
   "metadata": {},
   "outputs": [
    {
     "name": "stdout",
     "output_type": "stream",
     "text": [
      "I am Anas , age is 44 and i have studied MBA\n"
     ]
    }
   ],
   "source": [
    "user_2.describe_user()"
   ]
  },
  {
   "cell_type": "code",
   "execution_count": null,
   "metadata": {},
   "outputs": [],
   "source": []
  }
 ],
 "metadata": {
  "kernelspec": {
   "display_name": "Python 3",
   "language": "python",
   "name": "python3"
  },
  "language_info": {
   "codemirror_mode": {
    "name": "ipython",
    "version": 3
   },
   "file_extension": ".py",
   "mimetype": "text/x-python",
   "name": "python",
   "nbconvert_exporter": "python",
   "pygments_lexer": "ipython3",
   "version": "3.7.1"
  }
 },
 "nbformat": 4,
 "nbformat_minor": 2
}
