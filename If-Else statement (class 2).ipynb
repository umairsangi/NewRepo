{
 "cells": [
  {
   "cell_type": "code",
   "execution_count": 1,
   "metadata": {},
   "outputs": [
    {
     "name": "stdout",
     "output_type": "stream",
     "text": [
      "What is Tomato Per Kg90\n",
      "Dont Buy\n"
     ]
    }
   ],
   "source": [
    "tomatoPrice = input(\"What is Tomato Per Kg\")\n",
    "\n",
    "if tomatoPrice ==100: #indenting\n",
    "    print(\"Buy One Kg\")\n",
    "    \n",
    "else:\n",
    "    print(\"Dont Buy\")\n",
    "    "
   ]
  },
  {
   "cell_type": "markdown",
   "metadata": {},
   "source": [
    "# Check If Number is Even or Odd"
   ]
  },
  {
   "cell_type": "code",
   "execution_count": 16,
   "metadata": {},
   "outputs": [
    {
     "name": "stdout",
     "output_type": "stream",
     "text": [
      "What is the Number100\n",
      "Number is Even\n"
     ]
    }
   ],
   "source": [
    "Number = int(input(\"What is the Number\"))\n",
    "\n",
    "\n",
    "if Number%2==0:\n",
    "    print (\"Number is Even\")\n",
    " \n",
    "else:\n",
    "    print(\"Number is Odd\")"
   ]
  },
  {
   "cell_type": "markdown",
   "metadata": {},
   "source": [
    "# Check If Number Is Equal Or Not "
   ]
  },
  {
   "cell_type": "code",
   "execution_count": 1,
   "metadata": {},
   "outputs": [
    {
     "name": "stdout",
     "output_type": "stream",
     "text": [
      "What is the First Number12\n",
      "What is the Second Number3\n",
      "Number is not Equal\n"
     ]
    }
   ],
   "source": [
    "Num1 = int(input(\"What is the First Number\"))\n",
    "Num2 = int(input(\"What is the Second Number\"))\n",
    "\n",
    "if Num1 == Num2 :\n",
    "    print(\"Number 1 is equal to Number 2\")\n",
    "  \n",
    "else :\n",
    "    print(\"Number is not Equal\")\n",
    "    \n",
    "    \n",
    "    "
   ]
  },
  {
   "cell_type": "code",
   "execution_count": null,
   "metadata": {},
   "outputs": [],
   "source": []
  }
 ],
 "metadata": {
  "kernelspec": {
   "display_name": "Python 3",
   "language": "python",
   "name": "python3"
  },
  "language_info": {
   "codemirror_mode": {
    "name": "ipython",
    "version": 3
   },
   "file_extension": ".py",
   "mimetype": "text/x-python",
   "name": "python",
   "nbconvert_exporter": "python",
   "pygments_lexer": "ipython3",
   "version": "3.7.1"
  }
 },
 "nbformat": 4,
 "nbformat_minor": 2
}
