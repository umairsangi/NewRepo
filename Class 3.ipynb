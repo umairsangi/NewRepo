{
 "cells": [
  {
   "cell_type": "markdown",
   "metadata": {},
   "source": [
    "# Grading System"
   ]
  },
  {
   "cell_type": "code",
   "execution_count": 1,
   "metadata": {},
   "outputs": [
    {
     "name": "stdout",
     "output_type": "stream",
     "text": [
      "Enter your Maths Marks : 26\n",
      "Enter your English Marks : 34\n",
      "Enter your Physics Marks :65\n",
      "Enter your Computer Marks :78\n",
      "Enter your History Marks :87\n",
      "Your Total Marks = 290\n",
      "Your Percentage = 58.0%\n",
      "Your Grade is D\n"
     ]
    }
   ],
   "source": [
    "Maths=int(input(\"Enter your Maths Marks : \"))\n",
    "English=int(input(\"Enter your English Marks : \"))\n",
    "Physics=int(input(\"Enter your Physics Marks :\"))\n",
    "Computer=int(input(\"Enter your Computer Marks :\"))\n",
    "History =int(input(\"Enter your History Marks :\"))\n",
    "Total= Maths + English + Physics + Computer + History\n",
    "\n",
    "Percentage = Total * 100 / 500\n",
    "\n",
    "grade=\"\"\n",
    "if Percentage >=90 :\n",
    "     grade=\"A+\"\n",
    "elif Percentage >=80 :\n",
    "     grade=\"A\"\n",
    "elif Percentage >=70 :\n",
    "    grade=\"B\"\n",
    "elif Percentage >=60 :\n",
    "    grade=\"C\"\n",
    "elif Percentage >=50 :\n",
    "    grade=\"D\"\n",
    "    \n",
    "else :\n",
    "    grade=\"Fail\"\n",
    "    \n",
    "\n",
    "\n",
    "print(\"Your Total Marks = \"+str(Total) ,\"Your Percentage = \"+str(Percentage)+\"%\",\"Your Grade is \"+str(grade),sep=\"\\n\")\n",
    "\n",
    "\n"
   ]
  },
  {
   "cell_type": "markdown",
   "metadata": {},
   "source": [
    "# Conditions"
   ]
  },
  {
   "cell_type": "code",
   "execution_count": 41,
   "metadata": {},
   "outputs": [
    {
     "name": "stdout",
     "output_type": "stream",
     "text": [
      "True hey not\n"
     ]
    }
   ],
   "source": [
    "a=\"hey\"\n",
    "b=\"not\"\n",
    "\n",
    "if a==b or b!=a  and 10==10:\n",
    "    print(\"True\",a,b)\n",
    "    \n",
    "else    \n",
    "\n"
   ]
  },
  {
   "cell_type": "code",
   "execution_count": 4,
   "metadata": {},
   "outputs": [
    {
     "name": "stdout",
     "output_type": "stream",
     "text": [
      "Enter your name =umair\n",
      "Enter your Id23\n",
      "Not Allowed To vote\n"
     ]
    }
   ],
   "source": [
    "username=input(\"Enter your name =\")\n",
    "idcard=input(\"Enter your Id\")\n",
    "\n",
    "if username==\"yes\" and  idcard==\"yes\" :\n",
    "    print(\"You are allowed to vote\")\n",
    "    \n",
    "else:\n",
    "    print(\"Not Allowed To vote\")"
   ]
  },
  {
   "cell_type": "code",
   "execution_count": 19,
   "metadata": {},
   "outputs": [
    {
     "name": "stdout",
     "output_type": "stream",
     "text": [
      "Do You Have Tickets?yes\n",
      "What is your Age?16\n",
      "What is the Day?Monday\n",
      "You are not allowed \n"
     ]
    }
   ],
   "source": [
    "Ticket=input(\"Do You Have Tickets?\")\n",
    "Age=int(input(\"What is your Age?\"))\n",
    "Day=input(\"What is the Day?\")\n",
    "\n",
    "if Ticket==\"yes\" and Age>=18 and Day==\"Sunday\" :\n",
    "    print(\"You are allowed to watch the movie\")\n",
    "   \n",
    "else:\n",
    "    print(\"You are not allowed \")\n",
    "    "
   ]
  },
  {
   "cell_type": "code",
   "execution_count": 10,
   "metadata": {},
   "outputs": [
    {
     "name": "stdout",
     "output_type": "stream",
     "text": [
      "PAKISTAN\n"
     ]
    }
   ],
   "source": [
    "name=\"pakistan\"\n",
    "print(name.upper())"
   ]
  },
  {
   "cell_type": "code",
   "execution_count": 11,
   "metadata": {},
   "outputs": [
    {
     "name": "stdout",
     "output_type": "stream",
     "text": [
      "pakistan\n"
     ]
    }
   ],
   "source": [
    "print(name.lower())"
   ]
  },
  {
   "cell_type": "code",
   "execution_count": 12,
   "metadata": {},
   "outputs": [
    {
     "name": "stdout",
     "output_type": "stream",
     "text": [
      "Pakistan\n"
     ]
    }
   ],
   "source": [
    "print(name.title())\n"
   ]
  },
  {
   "cell_type": "code",
   "execution_count": 14,
   "metadata": {},
   "outputs": [
    {
     "name": "stdout",
     "output_type": "stream",
     "text": [
      "PAkistan\n",
      "okay\n"
     ]
    }
   ],
   "source": [
    "name =input()\n",
    "if name.lower() == \"pakistan\" :\n",
    "    print(\"okay\")"
   ]
  },
  {
   "cell_type": "markdown",
   "metadata": {},
   "source": [
    "# List(Array)"
   ]
  },
  {
   "cell_type": "code",
   "execution_count": 41,
   "metadata": {},
   "outputs": [
    {
     "data": {
      "text/plain": [
       "['Lahore', 'NY', 'Sukkur', 'Multan', 'Hyderabad']"
      ]
     },
     "execution_count": 41,
     "metadata": {},
     "output_type": "execute_result"
    }
   ],
   "source": [
    "cities=[\"Karachi\",\"Lahore\",\"Sukkur\",\"Multan\"]\n",
    "\n",
    "cities.append(\"Hyderabad\") #Append always add new data in the last\n",
    "cities.insert(2,\"NY\") #To add NY at index number 2\n",
    "cities[0]=\"Peshawar\" # To update an index\n",
    "del cities[0]# To delete a data\n",
    "\n",
    "\n",
    "\n",
    "\n",
    "cities"
   ]
  },
  {
   "cell_type": "code",
   "execution_count": 45,
   "metadata": {},
   "outputs": [
    {
     "name": "stdout",
     "output_type": "stream",
     "text": [
      "True\n"
     ]
    }
   ],
   "source": [
    "if \"NY\" in cities:\n",
    "    print(\"True\")"
   ]
  },
  {
   "cell_type": "code",
   "execution_count": 43,
   "metadata": {},
   "outputs": [
    {
     "data": {
      "text/plain": [
       "True"
      ]
     },
     "execution_count": 43,
     "metadata": {},
     "output_type": "execute_result"
    }
   ],
   "source": [
    "\"Lahore\" in cities "
   ]
  },
  {
   "cell_type": "code",
   "execution_count": 46,
   "metadata": {},
   "outputs": [
    {
     "data": {
      "text/plain": [
       "[1, 'a', True, [1, 2, 3, 4]]"
      ]
     },
     "execution_count": 46,
     "metadata": {},
     "output_type": "execute_result"
    }
   ],
   "source": [
    "yourlist=[1,\"a\",True,[1,2,3,4]]\n",
    "yourlist"
   ]
  },
  {
   "cell_type": "code",
   "execution_count": null,
   "metadata": {},
   "outputs": [],
   "source": []
  },
  {
   "cell_type": "code",
   "execution_count": null,
   "metadata": {},
   "outputs": [],
   "source": []
  }
 ],
 "metadata": {
  "kernelspec": {
   "display_name": "Python 3",
   "language": "python",
   "name": "python3"
  },
  "language_info": {
   "codemirror_mode": {
    "name": "ipython",
    "version": 3
   },
   "file_extension": ".py",
   "mimetype": "text/x-python",
   "name": "python",
   "nbconvert_exporter": "python",
   "pygments_lexer": "ipython3",
   "version": "3.7.1"
  }
 },
 "nbformat": 4,
 "nbformat_minor": 2
}
